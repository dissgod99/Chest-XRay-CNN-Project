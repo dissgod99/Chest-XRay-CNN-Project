{
 "cells": [
  {
   "cell_type": "code",
   "execution_count": 1,
   "metadata": {},
   "outputs": [],
   "source": [
    "import os\n",
    "import pandas as pd\n",
    "import numpy as np\n",
    "import matplotlib.pyplot as plt\n",
    "from tabulate import tabulate\n",
    "import seaborn as sns\n",
    "import torch"
   ]
  },
  {
   "attachments": {},
   "cell_type": "markdown",
   "metadata": {},
   "source": [
    "## Data Visualization"
   ]
  },
  {
   "cell_type": "code",
   "execution_count": 2,
   "metadata": {},
   "outputs": [
    {
     "data": {
      "text/plain": [
       "['chest_xray', 'test', 'train', 'val', '__MACOSX']"
      ]
     },
     "execution_count": 2,
     "metadata": {},
     "output_type": "execute_result"
    }
   ],
   "source": [
    "# display the content of the chest_xray folder\n",
    "os.listdir(path=\"./chest_xray/\")"
   ]
  },
  {
   "cell_type": "code",
   "execution_count": 3,
   "metadata": {},
   "outputs": [],
   "source": [
    "# general paths of the x-rays data\n",
    "TRAIN_DIR = \"./chest_xray/train/\"\n",
    "VALIDATION_DIR = \"./chest_xray/val/\"\n",
    "TEST_DIR = \"./chest_xray/test/\""
   ]
  },
  {
   "cell_type": "code",
   "execution_count": 31,
   "metadata": {},
   "outputs": [],
   "source": [
    "\"\"\"All functions will be written in this block\"\"\"\n",
    "def get_number_of_images(path_to_folder:str):\n",
    "    normal = len(os.listdir(path_to_folder + \"NORMAL\"))\n",
    "    pneumonia = len(os.listdir(path_to_folder + \"PNEUMONIA\"))\n",
    "    total = normal + pneumonia\n",
    "\n",
    "    return normal, pneumonia, total\n",
    "\n",
    "def display_number_samples(set:str, normal:int, pneumonia:int)->None:\n",
    "    table_data = [\n",
    "        [\"NORMAL\", normal],\n",
    "        [\"PNEUMONIA\", pneumonia],\n",
    "        [\"TOTAL\", normal + pneumonia]\n",
    "    ]\n",
    "    \n",
    "    print(f\"{set} set:\\n\")\n",
    "    print(tabulate(table_data, headers=[\"Class\", \"Number of Samples\"], tablefmt=\"pretty\"))\n",
    "    print(\"\\n\")\n"
   ]
  },
  {
   "cell_type": "code",
   "execution_count": 32,
   "metadata": {},
   "outputs": [
    {
     "data": {
      "text/plain": [
       "['NORMAL', 'PNEUMONIA']"
      ]
     },
     "execution_count": 32,
     "metadata": {},
     "output_type": "execute_result"
    }
   ],
   "source": [
    "os.listdir(TRAIN_DIR)"
   ]
  },
  {
   "cell_type": "code",
   "execution_count": 33,
   "metadata": {},
   "outputs": [],
   "source": [
    "normal_train, pneumonia_train, total_train = get_number_of_images(path_to_folder=TRAIN_DIR)\n",
    "normal_val, pneumonia_val, total_val = get_number_of_images(path_to_folder=VALIDATION_DIR)\n",
    "normal_test, pneumonia_test, total_test = get_number_of_images(path_to_folder=TEST_DIR)"
   ]
  },
  {
   "cell_type": "code",
   "execution_count": 34,
   "metadata": {},
   "outputs": [
    {
     "name": "stdout",
     "output_type": "stream",
     "text": [
      "TRAIN set:\n",
      "\n",
      "+-----------+-------------------+\n",
      "|   Class   | Number of Samples |\n",
      "+-----------+-------------------+\n",
      "|  NORMAL   |       1341        |\n",
      "| PNEUMONIA |       3875        |\n",
      "|   TOTAL   |       5216        |\n",
      "+-----------+-------------------+\n",
      "\n",
      "\n",
      "VALIDATION set:\n",
      "\n",
      "+-----------+-------------------+\n",
      "|   Class   | Number of Samples |\n",
      "+-----------+-------------------+\n",
      "|  NORMAL   |         8         |\n",
      "| PNEUMONIA |         8         |\n",
      "|   TOTAL   |        16         |\n",
      "+-----------+-------------------+\n",
      "\n",
      "\n"
     ]
    }
   ],
   "source": [
    "display_number_samples(set=\"TRAIN\", normal=normal_train, pneumonia=pneumonia_train)\n",
    "display_number_samples(set=\"VALIDATION\", normal=normal_val, pneumonia=pneumonia_val)"
   ]
  },
  {
   "cell_type": "code",
   "execution_count": 35,
   "metadata": {},
   "outputs": [
    {
     "name": "stdout",
     "output_type": "stream",
     "text": [
      "TEST set:\n",
      "\n",
      "+-----------+-------------------+\n",
      "|   Class   | Number of Samples |\n",
      "+-----------+-------------------+\n",
      "|  NORMAL   |        234        |\n",
      "| PNEUMONIA |        390        |\n",
      "|   TOTAL   |        624        |\n",
      "+-----------+-------------------+\n",
      "\n",
      "\n"
     ]
    }
   ],
   "source": [
    "display_number_samples(set=\"TEST\", normal=normal_test, pneumonia=pneumonia_test)"
   ]
  },
  {
   "cell_type": "code",
   "execution_count": null,
   "metadata": {},
   "outputs": [],
   "source": []
  }
 ],
 "metadata": {
  "kernelspec": {
   "display_name": "DLAM",
   "language": "python",
   "name": "python3"
  },
  "language_info": {
   "codemirror_mode": {
    "name": "ipython",
    "version": 3
   },
   "file_extension": ".py",
   "mimetype": "text/x-python",
   "name": "python",
   "nbconvert_exporter": "python",
   "pygments_lexer": "ipython3",
   "version": "3.10.11"
  },
  "orig_nbformat": 4
 },
 "nbformat": 4,
 "nbformat_minor": 2
}
